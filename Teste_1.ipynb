{
  "nbformat": 4,
  "nbformat_minor": 0,
  "metadata": {
    "kernelspec": {
      "display_name": "Python 3",
      "language": "python",
      "name": "python3"
    },
    "language_info": {
      "codemirror_mode": {
        "name": "ipython",
        "version": 3
      },
      "file_extension": ".py",
      "mimetype": "text/x-python",
      "name": "python",
      "nbconvert_exporter": "python",
      "pygments_lexer": "ipython3",
      "version": "3.7.7"
    },
    "colab": {
      "name": "Teste_1.ipynb",
      "provenance": [],
      "collapsed_sections": [],
      "include_colab_link": true
    }
  },
  "cells": [
    {
      "cell_type": "markdown",
      "metadata": {
        "id": "view-in-github",
        "colab_type": "text"
      },
      "source": [
        "<a href=\"https://colab.research.google.com/github/anavianascientist/Pit-o/blob/master/Teste_1.ipynb\" target=\"_parent\"><img src=\"https://colab.research.google.com/assets/colab-badge.svg\" alt=\"Open In Colab\"/></a>"
      ]
    },
    {
      "cell_type": "code",
      "metadata": {
        "id": "Pm63kcO7vgc4",
        "colab_type": "code",
        "colab": {}
      },
      "source": [
        "#Importar as bibliotecas necessarias\n",
        "import pandas as pd\n",
        "import json"
      ],
      "execution_count": null,
      "outputs": []
    },
    {
      "cell_type": "code",
      "metadata": {
        "id": "L87rpiBPvgdH",
        "colab_type": "code",
        "colab": {}
      },
      "source": [
        "#Upload do arquivo \n",
        "file = pd.read_json('source_file_2.json')"
      ],
      "execution_count": null,
      "outputs": []
    },
    {
      "cell_type": "code",
      "metadata": {
        "id": "ju0Di3YBvgdQ",
        "colab_type": "code",
        "colab": {}
      },
      "source": [
        "# Transformando o arquivo conforme ordem de prioridade\n",
        "\n",
        "file.sort_values(by='priority', inplace = True)"
      ],
      "execution_count": null,
      "outputs": []
    },
    {
      "cell_type": "code",
      "metadata": {
        "id": "EVUdRe2hvgdY",
        "colab_type": "code",
        "colab": {},
        "outputId": "2181cac5-e65b-4a14-c703-7d3f1dcc08b8"
      },
      "source": [
        "file.head(5)"
      ],
      "execution_count": null,
      "outputs": [
        {
          "output_type": "execute_result",
          "data": {
            "text/html": [
              "<div>\n",
              "<style scoped>\n",
              "    .dataframe tbody tr th:only-of-type {\n",
              "        vertical-align: middle;\n",
              "    }\n",
              "\n",
              "    .dataframe tbody tr th {\n",
              "        vertical-align: top;\n",
              "    }\n",
              "\n",
              "    .dataframe thead th {\n",
              "        text-align: right;\n",
              "    }\n",
              "</style>\n",
              "<table border=\"1\" class=\"dataframe\">\n",
              "  <thead>\n",
              "    <tr style=\"text-align: right;\">\n",
              "      <th></th>\n",
              "      <th>name</th>\n",
              "      <th>managers</th>\n",
              "      <th>watchers</th>\n",
              "      <th>priority</th>\n",
              "    </tr>\n",
              "  </thead>\n",
              "  <tbody>\n",
              "    <tr>\n",
              "      <th>2</th>\n",
              "      <td>Annotations</td>\n",
              "      <td>[luanda]</td>\n",
              "      <td>[csaftoiu, merlin, victor]</td>\n",
              "      <td>10</td>\n",
              "    </tr>\n",
              "    <tr>\n",
              "      <th>21</th>\n",
              "      <td>[EXECUTIVE] Merlin</td>\n",
              "      <td>[merlin]</td>\n",
              "      <td>[csaftoiu, jpfarias, merlin, morris]</td>\n",
              "      <td>20</td>\n",
              "    </tr>\n",
              "    <tr>\n",
              "      <th>45</th>\n",
              "      <td>sportsparsers - 22bet</td>\n",
              "      <td>[morris]</td>\n",
              "      <td>[csaftoiu, merlin]</td>\n",
              "      <td>45</td>\n",
              "    </tr>\n",
              "    <tr>\n",
              "      <th>44</th>\n",
              "      <td>sportsparsers - esportscalendar</td>\n",
              "      <td>[morris]</td>\n",
              "      <td>[csaftoiu, merlin]</td>\n",
              "      <td>55</td>\n",
              "    </tr>\n",
              "    <tr>\n",
              "      <th>33</th>\n",
              "      <td>morris bg data gathering</td>\n",
              "      <td>[victor]</td>\n",
              "      <td>[csaftoiu, morris]</td>\n",
              "      <td>130</td>\n",
              "    </tr>\n",
              "  </tbody>\n",
              "</table>\n",
              "</div>"
            ],
            "text/plain": [
              "                               name  managers  \\\n",
              "2                       Annotations  [luanda]   \n",
              "21               [EXECUTIVE] Merlin  [merlin]   \n",
              "45            sportsparsers - 22bet  [morris]   \n",
              "44  sportsparsers - esportscalendar  [morris]   \n",
              "33         morris bg data gathering  [victor]   \n",
              "\n",
              "                                watchers  priority  \n",
              "2             [csaftoiu, merlin, victor]        10  \n",
              "21  [csaftoiu, jpfarias, merlin, morris]        20  \n",
              "45                    [csaftoiu, merlin]        45  \n",
              "44                    [csaftoiu, merlin]        55  \n",
              "33                    [csaftoiu, morris]       130  "
            ]
          },
          "metadata": {
            "tags": []
          },
          "execution_count": 4
        }
      ]
    },
    {
      "cell_type": "code",
      "metadata": {
        "id": "Cwq7k_Isvgdl",
        "colab_type": "code",
        "colab": {}
      },
      "source": [
        "# Atribuir a cada manager o projeto (name) conforme o valor minimo da prioridade\n",
        "managers = {}\n",
        "keys = list(set([j for i in file.managers for j in i]))\n",
        "for mn in keys:\n",
        "    mask = file.managers.apply(lambda x: mn in x)\n",
        "    values = ((file.name[mask].to_list()))\n",
        "    managers[mn]=values"
      ],
      "execution_count": null,
      "outputs": []
    },
    {
      "cell_type": "code",
      "metadata": {
        "id": "LXuxWCAJvgdt",
        "colab_type": "code",
        "colab": {},
        "outputId": "fe0ae2f6-e89f-4187-add2-9f7f5f70192f"
      },
      "source": [
        "managers"
      ],
      "execution_count": null,
      "outputs": [
        {
          "output_type": "execute_result",
          "data": {
            "text/plain": [
              "{'morris': ['sportsparsers - 22bet',\n",
              "  'sportsparsers - esportscalendar',\n",
              "  'sportsparsers - unikrn',\n",
              "  'Deepgammon',\n",
              "  'Runningball Parser',\n",
              "  'sportsparsers - unibet',\n",
              "  'sportsparsers - tipster.de',\n",
              "  'sportsparsers - betway',\n",
              "  'sportsparsers - gg.bet',\n",
              "  'sportsparsers - matchbook',\n",
              "  'matchbook parser - mfilho'],\n",
              " 'victor': ['morris bg data gathering'],\n",
              " 'csaftoiu': ['sportsparsers - pinnacle API',\n",
              "  '[OCR] tesseract MRZ reading ',\n",
              "  'unity render diff passport text artur',\n",
              "  '[CV] [Qt] OpenCV GUI',\n",
              "  'unity render different passport text',\n",
              "  '[template] unity render passport text',\n",
              "  'matchbook parser - mfilho'],\n",
              " 'luanda': ['Annotations'],\n",
              " 'merlin': ['[EXECUTIVE] Merlin',\n",
              "  '[Web] pm-site',\n",
              "  '[ID-VERIFY-PIPELINE] finger detector',\n",
              "  '[CHESS] Live Demo Executive',\n",
              "  '[INHOUSE-TOOLS] NN-Webapp',\n",
              "  '[INHOUSE-TOOLS] Annotators app',\n",
              "  '[CV] [Qt] OpenCV GUI',\n",
              "  'python training lucas',\n",
              "  'python training alysson',\n",
              "  'unity render diff passport text - kennedy',\n",
              "  'Unity Render Passport Text [Template]',\n",
              "  'chess board finder eliaquim',\n",
              "  '[IOS-APPS] IOS streaming app',\n",
              "  '[IOS-APPS] IOS PI app',\n",
              "  '[HR] Candidate tests',\n",
              "  '[CHATBOT] merlin',\n",
              "  '[ID-VERIFY-PIPELINE] Background evaluator',\n",
              "  '[ID-VERIFY-PIPELINE] Passport finder',\n",
              "  '[CHATBOT] rodrigo',\n",
              "  '[BG-CLUB-SITE] frontend',\n",
              "  '[INHOUSE-TOOLS] NN-Webapp 2'],\n",
              " 'victor-mgr': ['mateus silva bg deep checkers',\n",
              "  'Android Camera App rrocha',\n",
              "  'bg deep learning aporto',\n",
              "  'bg deep checkers rvalentim',\n",
              "  'tourney site famador',\n",
              "  'tourney site ariel',\n",
              "  'tourney site tbarbalho'],\n",
              " 'ariel': ['[BG-CLUB-SITE] frontend'],\n",
              " 'arturc': ['unity render diff passport text artur']}"
            ]
          },
          "metadata": {
            "tags": []
          },
          "execution_count": 6
        }
      ]
    },
    {
      "cell_type": "code",
      "metadata": {
        "id": "q9INhcScvgd3",
        "colab_type": "code",
        "colab": {}
      },
      "source": [
        "# Atribuir a cada wacther o projeto (name) conforme o valor minimo da prioridade\n",
        "watchers = {}\n",
        "keys = list(set([j for i in file.watchers for j in i]))\n",
        "for wt in keys:\n",
        "    mask = file.watchers.apply(lambda x: wt in x)\n",
        "    values = ((file.name[mask].to_list()))\n",
        "    watchers[wt]=values"
      ],
      "execution_count": null,
      "outputs": []
    },
    {
      "cell_type": "code",
      "metadata": {
        "id": "5_FISEF_vgeB",
        "colab_type": "code",
        "colab": {},
        "outputId": "e8666cb3-ff2a-431d-8c6a-437d9d6d6f2d"
      },
      "source": [
        "watchers"
      ],
      "execution_count": null,
      "outputs": [
        {
          "output_type": "execute_result",
          "data": {
            "text/plain": [
              "{'jpfarias': ['[EXECUTIVE] Merlin',\n",
              "  '[Web] pm-site',\n",
              "  '[ID-VERIFY-PIPELINE] finger detector',\n",
              "  '[INHOUSE-TOOLS] NN-Webapp',\n",
              "  '[INHOUSE-TOOLS] Annotators app',\n",
              "  '[IOS-APPS] IOS streaming app',\n",
              "  '[IOS-APPS] IOS PI app',\n",
              "  '[HR] Candidate tests',\n",
              "  '[CHATBOT] merlin',\n",
              "  '[ID-VERIFY-PIPELINE] Background evaluator',\n",
              "  '[ID-VERIFY-PIPELINE] Passport finder',\n",
              "  '[CHATBOT] rodrigo',\n",
              "  '[BG-CLUB-SITE] frontend',\n",
              "  '[INHOUSE-TOOLS] NN-Webapp 2',\n",
              "  'matchbook parser - mfilho'],\n",
              " 'morris': ['[EXECUTIVE] Merlin',\n",
              "  'morris bg data gathering',\n",
              "  '[Web] pm-site',\n",
              "  'sportsparsers - pinnacle API',\n",
              "  '[ID-VERIFY-PIPELINE] finger detector',\n",
              "  '[CHESS] Live Demo Executive',\n",
              "  '[INHOUSE-TOOLS] NN-Webapp',\n",
              "  '[INHOUSE-TOOLS] Annotators app',\n",
              "  'unity render diff passport text artur',\n",
              "  '[CV] [Qt] OpenCV GUI',\n",
              "  'python training lucas',\n",
              "  'python training alysson',\n",
              "  'unity render different passport text',\n",
              "  '[template] unity render passport text',\n",
              "  'unity render diff passport text - kennedy',\n",
              "  'Unity Render Passport Text [Template]',\n",
              "  '[IOS-APPS] IOS streaming app',\n",
              "  '[IOS-APPS] IOS PI app',\n",
              "  '[HR] Candidate tests',\n",
              "  '[CHATBOT] merlin',\n",
              "  '[ID-VERIFY-PIPELINE] Background evaluator',\n",
              "  '[ID-VERIFY-PIPELINE] Passport finder',\n",
              "  '[CHATBOT] rodrigo',\n",
              "  '[BG-CLUB-SITE] frontend',\n",
              "  '[INHOUSE-TOOLS] NN-Webapp 2'],\n",
              " 'csaftoiu': ['Annotations',\n",
              "  '[EXECUTIVE] Merlin',\n",
              "  'sportsparsers - 22bet',\n",
              "  'sportsparsers - esportscalendar',\n",
              "  'morris bg data gathering',\n",
              "  'sportsparsers - unikrn',\n",
              "  'Runningball Parser',\n",
              "  'sportsparsers - unibet',\n",
              "  '[Web] pm-site',\n",
              "  'sportsparsers - tipster.de',\n",
              "  'sportsparsers - betway',\n",
              "  'sportsparsers - gg.bet',\n",
              "  'sportsparsers - pinnacle API',\n",
              "  'sportsparsers - matchbook',\n",
              "  '[ID-VERIFY-PIPELINE] finger detector',\n",
              "  '[CHESS] Live Demo Executive',\n",
              "  '[INHOUSE-TOOLS] NN-Webapp',\n",
              "  '[INHOUSE-TOOLS] Annotators app',\n",
              "  'python training lucas',\n",
              "  'python training alysson',\n",
              "  'unity render diff passport text - kennedy',\n",
              "  'Unity Render Passport Text [Template]',\n",
              "  'mateus silva bg deep checkers',\n",
              "  'Android Camera App rrocha',\n",
              "  'bg deep learning aporto',\n",
              "  'bg deep checkers rvalentim',\n",
              "  'tourney site famador',\n",
              "  'chess board finder eliaquim',\n",
              "  'tourney site ariel',\n",
              "  'tourney site tbarbalho',\n",
              "  '[IOS-APPS] IOS streaming app',\n",
              "  '[IOS-APPS] IOS PI app',\n",
              "  '[HR] Candidate tests',\n",
              "  '[CHATBOT] merlin',\n",
              "  '[ID-VERIFY-PIPELINE] Background evaluator',\n",
              "  '[ID-VERIFY-PIPELINE] Passport finder',\n",
              "  '[CHATBOT] rodrigo',\n",
              "  '[BG-CLUB-SITE] frontend',\n",
              "  '[INHOUSE-TOOLS] NN-Webapp 2'],\n",
              " 'victor': ['Annotations', 'Deepgammon'],\n",
              " 'merlin': ['Annotations',\n",
              "  '[EXECUTIVE] Merlin',\n",
              "  'sportsparsers - 22bet',\n",
              "  'sportsparsers - esportscalendar',\n",
              "  'sportsparsers - unikrn',\n",
              "  'Deepgammon',\n",
              "  'Runningball Parser',\n",
              "  'sportsparsers - unibet',\n",
              "  'sportsparsers - tipster.de',\n",
              "  'sportsparsers - betway',\n",
              "  'sportsparsers - gg.bet',\n",
              "  'sportsparsers - matchbook',\n",
              "  '[OCR] tesseract MRZ reading ',\n",
              "  '[INHOUSE-TOOLS] NN-Webapp',\n",
              "  'unity render diff passport text artur',\n",
              "  '[CV] [Qt] OpenCV GUI',\n",
              "  'unity render different passport text',\n",
              "  '[template] unity render passport text',\n",
              "  'unity render diff passport text - kennedy',\n",
              "  'Unity Render Passport Text [Template]',\n",
              "  'mateus silva bg deep checkers',\n",
              "  'Android Camera App rrocha',\n",
              "  'bg deep learning aporto',\n",
              "  'bg deep checkers rvalentim',\n",
              "  'tourney site famador',\n",
              "  'tourney site ariel',\n",
              "  'tourney site tbarbalho',\n",
              "  '[INHOUSE-TOOLS] NN-Webapp 2',\n",
              "  'matchbook parser - mfilho'],\n",
              " 'victor-mgr': ['chess board finder eliaquim'],\n",
              " 'arturc': ['[OCR] tesseract MRZ reading '],\n",
              " 'Alex': ['sportsparsers - pinnacle API']}"
            ]
          },
          "metadata": {
            "tags": []
          },
          "execution_count": 8
        }
      ]
    },
    {
      "cell_type": "code",
      "metadata": {
        "id": "AcPsaQ2GvgeL",
        "colab_type": "code",
        "colab": {}
      },
      "source": [
        "with open('managers.json', 'w') as manag:\n",
        "    json.dump(managers, manag)"
      ],
      "execution_count": null,
      "outputs": []
    },
    {
      "cell_type": "code",
      "metadata": {
        "id": "4Lpns6cWvgeW",
        "colab_type": "code",
        "colab": {}
      },
      "source": [
        "with open('watchers.json', 'w') as watch:\n",
        "    json.dump(watchers, watch)"
      ],
      "execution_count": null,
      "outputs": []
    }
  ]
}